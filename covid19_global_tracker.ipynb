{
 "cells": [
  {
   "cell_type": "markdown",
   "metadata": {},
   "source": [
    "# COVID-19 Global Data Tracker\n",
    "\n",
    "This notebook analyzes global COVID-19 trends, including cases, deaths, recoveries, and vaccinations across countries and time periods. We'll use Python data analysis tools to clean data, perform exploratory data analysis, generate insights, and visualize trends.\n",
    "\n",
    "## Table of Contents\n",
    "1. [Data Collection](#1-data-collection)\n",
    "2. [Data Loading & Exploration](#2-data-loading--exploration)\n",
    "3. [Data Cleaning](#3-data-cleaning)\n",
    "4. [Exploratory Data Analysis (EDA)](#4-exploratory-data-analysis-eda)\n",
    "5. [Visualizing Vaccination Progress](#5-visualizing-vaccination-progress)\n",
    "6. [Choropleth Map Visualization](#6-choropleth-map-visualization)\n",
    "7. [Insights & Reporting](#7-insights--reporting)"
   ]
  },
  {
   "cell_type": "markdown",
   "metadata": {},
   "source": [
    "## 1. Data Collection\n",
    "\n",
    "We'll use the [Our World in Data](https://ourworldindata.org/coronavirus) COVID-19 dataset. This dataset is comprehensive and regularly updated with information on COVID-19 cases, deaths, and vaccinations worldwide.\n",
    "\n",
    "The data can be downloaded directly from:\n",
    "- https://covid.ourworldindata.org/data/owid-covid-data.csv\n",
    "\n",
    "Let's start by importing the necessary libraries."
   ]
  },
  {
   "cell_type": "code",
   "execution_count": null,
   "metadata": {},
   "outputs": [],
   "source": [
    "# Import required libraries\n",
    "import pandas as pd\n",
    "import numpy as np\n",
    "import matplotlib.pyplot as plt\n",
    "import seaborn as sns\n",
    "import plotly.express as px\n",
    "from datetime import datetime\n",
    "\n",
    "# Set visualization style\n",
    "sns.set(style=\"whitegrid\")\n",
    "plt.style.use('seaborn-v0_8-whitegrid')\n",
    "\n",
    "# For better visualizations in Jupyter notebook\n",
    "%matplotlib inline\n",
    "plt.rcParams['figure.figsize'] = (12, 8)\n",
    "plt.rcParams['font.size'] = 12"
   ]
  },
  {
   "cell_type": "markdown",
   "metadata": {},
   "source": [
    "Now, let's load the COVID-19 dataset. We'll first try to download it directly from the source, but also provide an alternative to load it from a local file."
   ]
  },
  {
   "cell_type": "code",
   "execution_count": null,
   "metadata": {},
   "outputs": [],
   "source": [
    "# Load the data directly from the URL\n",
    "try:\n",
    "    covid_data_url = 'https://covid.ourworldindata.org/data/owid-covid-data.csv'\n",
    "    df = pd.read_csv(covid_data_url)\n",
    "    print(f\"Data loaded successfully from URL with {df.shape[0]} rows and {df.shape[1]} columns.\")\n",
    "except Exception as e:\n",
    "    print(f\"Error loading data from URL: {e}\")\n",
    "    print(\"Attempting to load from local file...\")\n",
    "    try:\n",
    "        # Try to load from a local file\n",
    "        df = pd.read_csv('owid-covid-data.csv')\n",
    "        print(f\"Data loaded successfully from local file with {df.shape[0]} rows and {df.shape[1]} columns.\")\n",
    "    except Exception as e2:\n",
    "        print(f\"Error loading data from local file: {e2}\")\n",
    "        print(\"Please ensure the 'owid-covid-data.csv' file is in your current working directory.\")"
   ]
  },
  {
   "cell_type": "markdown",
   "metadata": {},
   "source": [
    "## 2. Data Loading & Exploration\n",
    "\n",
    "Let's explore the structure of the dataset to understand what data we're working with."
   ]
  },
  {
   "cell_type": "code",
   "execution_count": null,
   "metadata": {},
   "outputs": [],
   "source": [
    "# Display the first few rows of the dataset\n",
    "df.head()"
   ]
  },
  {
   "cell_type": "code",
   "execution_count": null,
   "metadata": {},
   "outputs": [],
   "source": [
    "# Check the columns in the dataset\n",
    "print(f\"The dataset contains {len(df.columns)} columns:\")\n",
    "df.columns.tolist()"
   ]
  },
  {
   "cell_type": "code",
   "execution_count": null,
   "metadata": {},
   "outputs": [],
   "source": [
    "# Get basic information about the dataset\n",
    "df.info()"
   ]
  },
  {
   "cell_type": "code",
   "execution_count": null,
   "metadata": {},
   "outputs": [],
   "source": [
    "# Check for missing values\n",
    "missing_values = df.isnull().sum()\n",
    "print(\"Columns with missing values:\")\n",
    "missing_values[missing_values > 0].sort_values(ascending=False)"
   ]
  },
  {
   "cell_type": "code",
   "execution_count": null,
   "metadata": {},
   "outputs": [],
   "source": [
    "# Check the unique countries/regions in the dataset\n",
    "unique_locations = df['location'].nunique()\n",
    "print(f\"The dataset contains data for {unique_locations} unique locations.\")\n",
    "\n",
    "# Show the top 10 countries by number of records\n",
    "df['location'].value_counts().head(10)"
   ]
  },
  {
   "cell_type": "code",
   "execution_count": null,
   "metadata": {},
   "outputs": [],
   "source": [
    "# Check the date range in the dataset\n",
    "min_date = df['date'].min()\n",
    "max_date = df['date'].max()\n",
    "print(f\"The dataset covers the period from {min_date} to {max_date}.\")"
   ]
  },
  {
   "cell_type": "markdown",
   "metadata": {},
   "source": [
    "Let's also check some basic statistics for our main variables of interest:"
   ]
  },
  {
   "cell_type": "code",
   "execution_count": null,
   "metadata": {},
   "outputs": [],
   "source": [
    "# Get descriptive statistics for key numeric columns\n",
    "key_columns = ['total_cases', 'new_cases', 'total_deaths', 'new_deaths', \n",
    "               'total_vaccinations', 'people_vaccinated', 'people_fully_vaccinated']\n",
    "\n",
    "# Filter only columns that exist in the dataset\n",
    "existing_columns = [col for col in key_columns if col in df.columns]\n",
    "df[existing_columns].describe()"
   ]
  },
  {
   "cell_type": "markdown",
   "metadata": {},
   "source": [
    "## 3. Data Cleaning\n",
    "\n",
    "Now let's clean the data for our analysis. We'll focus on the following steps:\n",
    "1. Convert the date column to datetime format\n",
    "2. Filter for specific countries of interest\n",
    "3. Handle missing values in key columns"
   ]
  },
  {
   "cell_type": "code",
   "execution_count": null,
   "metadata": {},
   "outputs": [],
   "source": [
    "# Convert the date column to datetime format\n",
    "df['date'] = pd.to_datetime(df['date'])\n",
    "print(\"Date column converted to datetime format.\")"
   ]
  },
  {
   "cell_type": "code",
   "execution_count": null,
   "metadata": {},
   "outputs": [],
   "source": [
    "# Define countries of interest for detailed analysis\n",
    "# Including a diverse mix of countries from different continents and development levels\n",
    "countries_of_interest = ['United States', 'India', 'Brazil', 'United Kingdom', \n",
    "                         'Germany', 'South Africa', 'Japan', 'Australia', 'Kenya']\n",
    "\n",
    "# Create a filtered dataset with only these countries\n",
    "df_countries = df[df['location'].isin(countries_of_interest)].copy()\n",
    "\n",
    "# Check how many rows we have for each country\n",
    "country_counts = df_countries['location'].value_counts()\n",
    "print(\"Number of data points per country:\")\n",
    "country_counts"
   ]
  },
  {
   "cell_type": "code",
   "execution_count": null,
   "metadata": {},
   "outputs": [],
   "source": [
    "# Check for missing values in our subset\n",
    "missing_by_country = df_countries.groupby('location')[key_columns].isnull().sum()\n",
    "missing_by_country"
   ]
  },
  {
   "cell_type": "code",
   "execution_count": null,
   "metadata": {},
   "outputs": [],
   "source": [
    "# For more effective time series analysis, let's make sure we have the key metrics\n",
    "# Let's focus on total_cases and total_deaths which should be more complete\n",
    "\n",
    "# First, let's see how many records have both total_cases and total_deaths\n",
    "complete_cases = df_countries.dropna(subset=['total_cases', 'total_deaths'])\n",
    "print(f\"Records with both total_cases and total_deaths: {len(complete_cases)} out of {len(df_countries)} ({len(complete_cases)/len(df_countries)*100:.2f}%)\")\n",
    "\n",
    "# Let's proceed with this subset for our core analysis\n",
    "df_clean = complete_cases.copy()"
   ]
  },
  {
   "cell_type": "code",
   "execution_count": null,
   "metadata": {},
   "outputs": [],
   "source": [
    "# For vaccination data, there might be more missing values\n",
    "# Let's check how many records have vaccination data\n",
    "vax_columns = ['total_vaccinations', 'people_vaccinated', 'people_fully_vaccinated']\n",
    "vax_columns_available = [col for col in vax_columns if col in df.columns]\n",
    "\n",
    "if vax_columns_available:\n",
    "    vax_data = df_countries.dropna(subset=vax_columns_available)\n",
    "    print(f\"Records with vaccination data: {len(vax_data)} out of {len(df_countries)} ({len(vax_data)/len(df_countries)*100:.2f}%)\")\n",
    "    \n",
    "    # Create a separate dataset for vaccination analysis\n",
    "    df_vax = vax_data.copy()\n",
    "else:\n",
    "    print(\"No vaccination columns found in the dataset.\")\n",
    "    df_vax = pd.DataFrame()  # Empty dataframe if no vaccination data"
   ]
  },
  {
   "cell_type": "code",
   "execution_count": null,
   "metadata": {},
   "outputs": [],
   "source": [
    "# Calculate additional metrics\n",
    "# Death rate (deaths per confirmed case)\n",
    "df_clean['death_rate'] = (df_clean['total_deaths'] / df_clean['total_cases']) * 100\n",
    "\n",
    "# If we have population data, calculate cases and deaths per million\n",
    "if 'population' in df_clean.columns:\n",
    "    df_clean['cases_per_million'] = (df_clean['total_cases'] / df_clean['population']) * 1000000\n",
    "    df_clean['deaths_per_million'] = (df_clean['total_deaths'] / df_clean['population']) * 1000000\n",
    "    \n",
    "df_clean.head()"
   ]
  },
  {
   "cell_type": "markdown",
   "metadata": {},
   "source": [
    "## 4. Exploratory Data Analysis (EDA)\n",
    "\n",
    "Now let's perform some exploratory data analysis to understand the COVID-19 trends better."
   ]
  },
  {
   "cell_type": "markdown",
   "metadata": {},
   "source": [
    "### 4.1 Total Cases Over Time"
   ]
  },
  {
   "cell_type": "code",
   "execution_count": null,
   "metadata": {},
   "outputs": [],
   "source": [
    "# Plot total cases over time for selected countries\n",
    "plt.figure(figsize=(14, 8))\n",
    "\n",
    "for country in countries_of_interest:\n",
    "    country_data = df_clean[df_clean['location'] == country]\n",
    "    if not country_data.empty:\n",
    "        plt.plot(country_data['date'], country_data['total_cases'], label=country, linewidth=2)\n",
    "\n",
    "plt.title('Total COVID-19 Cases Over Time by Country', fontsize=16)\n",
    "plt.xlabel('Date', fontsize=14)\n",
    "plt.ylabel('Total Cases', fontsize=14)\n",
    "plt.grid(True, alpha=0.3)\n",
    "plt.legend(fontsize=12)\n",
    "plt.yscale('log')  # Log scale helps visualize all countries on the same plot\n",
    "plt.tight_layout()\n",
    "plt.show()"
   ]
  },
  {
   "cell_type": "code",
   "execution_count": null,
   "metadata": {},
   "outputs": [],
   "source": [
    "# Plot the same data but normalized by population (cases per million) if available\n",
    "if 'cases_per_million' in df_clean.columns:\n",
    "    plt.figure(figsize=(14, 8))\n",
    "\n",
    "    for country in countries_of_interest:\n",
    "        country_data = df_clean[df_clean['location'] == country]\n",
    "        if not country_data.empty:\n",
    "            plt.plot(country_data['date'], country_data['cases_per_million'], label=country, linewidth=2)\n",
    "\n",
    "    plt.title('COVID-19 Cases per Million Population Over Time', fontsize=16)\n",
    "    plt.xlabel('Date', fontsize=14)\n",
    "    plt.ylabel('Cases per Million', fontsize=14)\n",
    "    plt.grid(True, alpha=0.3)\n",
    "    plt.legend(fontsize=12)\n",
    "    plt.tight_layout()\n",
    "    plt.show()"
   ]
  },
  {
   "cell_type": "markdown",
   "metadata": {},
   "source": [
    "### 4.2 Total Deaths Over Time"
   ]
  },
  {
   "cell_type": "code",
   "execution_count": null,
   "metadata": {},
   "outputs": [],
   "source": [
    "# Plot total deaths over time for selected countries\n",
    "plt.figure(figsize=(14, 8))\n",
    "\n",
    "for country in countries_of_interest:\n",
    "    country_data = df_clean[df_clean['location'] == country]\n",
    "    if not country_data.empty:\n",
    "        plt.plot(country_data['date'], country_data['total_deaths'], label=country, linewidth=2)\n",
    "\n",
    "plt.title('Total COVID-19 Deaths Over Time by Country', fontsize=16)\n",
    "plt.xlabel('Date', fontsize=14)\n",
    "plt.ylabel('Total Deaths', fontsize=14)\n",
    "plt.grid(True, alpha=0.3)\n",
    "plt.legend(fontsize=12)\n",
    "plt.yscale('log')  # Log scale helps visualize all countries on the same plot\n",
    "plt.tight_layout()\n",
    "plt.show()"
   ]
  },
  {
   "cell_type": "code",
   "execution_count": null,
   "metadata": {},
   "outputs": [],
   "source": [
    "# Plot deaths per million if available\n",
    "if 'deaths_per_million' in df_clean.columns:\n",
    "    plt.figure(figsize=(14, 8))\n",
    "\n",
    "    for country in countries_of_interest:\n",
    "        country_data = df_clean[df_clean['location'] == country]\n",
    "        if not country_data.empty:\n",
    "            plt.plot(country_data['date'], country_data['deaths_per_million'], label=country, linewidth=2)\n",
    "\n",
    "    plt.title('COVID-19 Deaths per Million Population Over Time', fontsize=16)\n",
    "    plt.xlabel('Date', fontsize=14)\n",
    "    plt.ylabel('Deaths per Million', fontsize=14)\n",
    "    plt.grid(True, alpha=0.3)\n",
    "    plt.legend(fontsize=12)\n",
    "    plt.tight_layout()\n",
    "    plt.show()"
   ]
  },
  {
   "cell_type": "markdown",
   "metadata": {},
   "source": [
    "### 4.3 Daily New Cases"
   ]
  },
  {
   "cell_type": "code",
   "execution_count": null,
   "metadata": {},
   "outputs": [],
   "source": [
    "# Plot daily new cases for selected countries\n",
    "# We'll use a rolling 7-day average to smooth out reporting inconsistencies\n",
    "\n",
    "plt.figure(figsize=(14, 8))\n",
    "\n",
    "for country in countries_of_interest:\n",
    "    country_data = df_clean[df_clean['location'] == country]\n",
    "    if not country_data.empty and 'new_cases' in country_data.columns:\n",
    "        # Calculate 7-day rolling average\n",
    "        country_data['new_cases_smoothed'] = country_data['new_cases'].rolling(window=7).mean()\n",
    "        plt.plot(country_data['date'], country_data['new_cases_smoothed'], label=country, linewidth=2)\n",
    "\n",
    "plt.title('Daily New COVID-19 Cases (7-day Rolling Average) by Country', fontsize=16)\n",
    "plt.xlabel('Date', fontsize=14)\n",
    "plt.ylabel('New Cases (7-day avg)', fontsize=14)\n",
    "plt.grid(True, alpha=0.3)\n",
    "plt.legend(fontsize=12)\n",
    "plt.yscale('log')  # Log scale helps visualize all countries on the same plot\n",
    "plt.tight_layout()\n",
    "plt.show()"
   ]
  },
  {
   "cell_type": "markdown",
   "metadata": {},
   "source": [
    "### 4.4 Death Rate Analysis"
   ]
  },
  {
   "cell_type": "code",
   "execution_count": null,
   "metadata": {},
   "outputs": [],
   "source": [
    "# Analyze the evolution of death rates over time\n",
    "plt.figure(figsize=(14, 8))\n",
    "\n",
    "for country in countries_of_interest:\n",
    "    country_data = df_clean[df_clean['location'] == country]\n",
    "    if not country_data.empty and 'death_rate' in country_data.columns:\n",
    "        plt.plot(country_data['date'], country_data['death_rate'], label=country, linewidth=2)\n",
    "\n",
    "plt.title('COVID-19 Death Rate (Deaths/Cases) Over Time by Country', fontsize=16)\n",
    "plt.xlabel('Date', fontsize=14)\n",
    "plt.ylabel('Death Rate (%)', fontsize=14)\n",
    "plt.grid(True, alpha=0.3)\n",
    "plt.legend(fontsize=12)\n",
    "plt.ylim(bottom=0)  # Start y-axis at 0\n",
    "plt.tight_layout()\n",
    "plt.show()"
   ]
  },
  {
   "cell_type": "code",
   "execution_count": null,
   "metadata": {},
   "outputs": [],
   "source": [
    "# Let's look at the latest death rates by country\n",
    "# Get the latest date for each country\n",
    "latest_data = df_clean.sort_values('date').groupby('location').last().reset_index()\n",
    "\n",
    "# Create a bar chart of death rates\n",
    "plt.figure(figsize=(14, 8))\n",
    "bars = plt.bar(latest_data['location'], latest_data['death_rate'])\n",
    "\n",
    "# Add value labels to the bars\n",
    "for bar in bars:\n",
    "    height = bar.get_height()\n",
    "    plt.text(bar.get_x() + bar.get_width()/2., height,\n",
    "            f'{height:.2f}%',\n",
    "            ha='center', va='bottom', fontsize=11)\n",
    "\n",
    "plt.title('Latest COVID-19 Death Rates by Country', fontsize=16)\n",
    "plt.xlabel('Country', fontsize=14)\n",
    "plt.ylabel('Death Rate (%)', fontsize=14)\n",
    "plt.grid(True, alpha=0.3, axis='y')\n",
    "plt.xticks(rotation=45, ha='right')\n",
    "plt.tight_layout()\n",
    "plt.show()"
   ]
  },
  {
   "cell_type": "markdown",
   "metadata": {},
   "source": [
    "### 4.5 Comparing COVID-19 Waves Across Countries"
   ]
  },
  {
   "cell_type": "code",
   "execution_count": null,
   "metadata": {},
   "outputs": [],
   "source": [
    "# Let's create a multi-panel plot to compare COVID-19 waves across different countries\n",
    "# We'll use new cases as our metric\n",
    "\n",
    "# Choose a subset of countries for clearer visualization\n",
    "selected_countries = ['United States', 'India', 'United Kingdom', 'Germany', 'South Africa']\n",
    "\n",
    "# Create a figure with multiple subplots\n",
    "fig, axes = plt.subplots(len(selected_countries), 1, figsize=(14, 4 * len(selected_countries)), sharex=True)\n",
    "\n",
    "for i, country in enumerate(selected_countries):\n",
    "    country_data = df_clean[df_clean['location'] == country]\n",
    "    if not country_data.empty and 'new_cases' in country_data.columns:\n",
    "        # Calculate 7-day rolling average\n",
    "        country_data['new_cases_smoothed'] = country_data['new_cases'].rolling(window=7).mean()\n",
    "        \n",
    "        # Plot data\n",
    "        axes[i].plot(country_data['date'], country_data['new_cases_smoothed'], color='blue', linewidth=2)\n",
    "        axes[i].set_title(f'{country}', fontsize=14)\n",
    "        axes[i].set_ylabel('New Cases (7-day avg)', fontsize=12)\n",
    "        axes[i].grid(True, alpha=0.3)\n",
    "        \n",
    "        # Add a second y-axis for deaths\n",
    "        if 'new_deaths' in country_data.columns:\n",
    "            ax2 = axes[i].twinx()\n",
    "            country_data['new_deaths_smoothed'] = country_data['new_deaths'].rolling(window=7).mean()\n",
    "            ax2.plot(country_data['date'], country_data['new_deaths_smoothed'], color='red', linewidth=1.5, alpha=0.7)\n",
    "            ax2.set_ylabel('New Deaths (7-day avg)', fontsize=12, color='red')\n",
    "            ax2.tick_params(axis='y', colors='red')\n",
    "\n",
    "# Set the x-label for the bottom subplot only\n",
    "axes[-1].set_xlabel('Date', fontsize=14)\n",
    "\n",
    "# Add a title to the entire figure\n",
    "fig.suptitle('COVID-19 Waves Across Different Countries (New Cases and Deaths)', fontsize=18, y=1.02)\n",
    "\n",
    "plt.tight_layout()\n",
    "plt.show()"
   ]
  },
  {
   "cell_type": "markdown",
   "metadata": {},
   "source": [
    "## 5. Visualizing Vaccination Progress\n",
   
